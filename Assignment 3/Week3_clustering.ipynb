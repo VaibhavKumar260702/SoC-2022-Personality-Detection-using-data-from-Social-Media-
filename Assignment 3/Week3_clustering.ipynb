{
 "cells": [
  {
   "cell_type": "markdown",
   "id": "exposed-shopper",
   "metadata": {
    "id": "exposed-shopper"
   },
   "source": [
    "# Clustering \n",
    "\n",
    "### What is the need?\n",
    "Let's say you want to build a search engine. To do that you will need to find a pattern between pages and see if two pages/ searches are related.  \n",
    "Do you think regression or classification would be of any help?  \n",
    "\n",
    "### What is clustering?\n",
    "It is an unsupervised learning algorithm, that helps us finds patterns in data. It trys to finds data which is similar to each other.  \n",
    "\n",
    "### What is unsupervised learning?\n",
    "In unsupervised learning we let the computer learn by itself. Remember how we had given labels (like the type of iris or if an email is a spam or not) to data in classification. In unsupervised learning there are no labels, i.e., we don't know if the email is spam or not, we are just given the email.\n"
   ]
  },
  {
   "cell_type": "markdown",
   "id": "peripheral-paste",
   "metadata": {
    "id": "peripheral-paste"
   },
   "source": [
    "The algorithm we will be looking at is called **k-means**. The algorithm is explained [here](https://www.youtube.com/watch?v=hDmNF9JG3lo&list=PLLssT5z_DsK-h9vYZkQkYNWcItqhlRJLN&index=77)  \n",
    "Let's see a simple implementation from scratch.  "
   ]
  },
  {
   "cell_type": "code",
   "execution_count": 1,
   "id": "modular-discrimination",
   "metadata": {
    "id": "modular-discrimination"
   },
   "outputs": [],
   "source": [
    "import numpy as np\n",
    "from scipy.spatial.distance import cdist\n",
    "import matplotlib.pyplot as plt\n",
    "import pandas as pd"
   ]
  },
  {
   "cell_type": "code",
   "execution_count": 2,
   "id": "every-brunei",
   "metadata": {
    "id": "every-brunei"
   },
   "outputs": [],
   "source": [
    "def k_means(k, data1, noIter=500):\n",
    "    data = data1.values\n",
    "    n = len(data)\n",
    "    index = np.random.randint(0, n, size= (k,1))\n",
    "    centroids = []\n",
    "    \n",
    "    for x in index:\n",
    "        centroids.extend(data[x][:])\n",
    "    \n",
    "    centroids = np.array(centroids)\n",
    "    \n",
    "#   Instead of looping through all points and finding the distance from each centroid we can do this    \n",
    "    distances = cdist(data, centroids ,'euclidean')\n",
    "    \n",
    "#   Using the distance to find the closest centroid    \n",
    "    points_ = [] \n",
    "    for distance in distances:\n",
    "        temp = min(distance)\n",
    "        res = [i for i, j in enumerate(distance) if j == temp]\n",
    "        points_.append(res[0])\n",
    "    \n",
    "    points = np.array(points_)\n",
    "#       a shoter way of find the minimum distance from each centroid \n",
    "#     points = np.array([np.argmin(i) for i in distances])\n",
    "    \n",
    "    for _ in range(noIter): \n",
    "        centroids = []\n",
    "        \n",
    "        for index in range(k):\n",
    "            # data[points == index] gives us all the points that are closest to the centroid (labelled as index)\n",
    "            # .mean() is used to find the mean of the points, axis=0 means along the column, i.e., the points get \n",
    "            # added\n",
    "            temp_cent = data[points==index].mean(axis=0) \n",
    "            centroids.append(temp_cent)\n",
    "            \n",
    "        centroids = np.array(centroids)\n",
    "        distances = cdist(data, centroids ,'euclidean')\n",
    "\n",
    "        \n",
    "        points_=[]\n",
    "        for distance in distances:\n",
    "            temp = min(distance)\n",
    "            res = [i for i, j in enumerate(distance) if j == temp]\n",
    "            points_.append(res[0])\n",
    "        points = np.array(points_) \n",
    "    return points, centroids\n",
    "    \n",
    "    "
   ]
  },
  {
   "cell_type": "code",
   "execution_count": 3,
   "id": "realistic-shaft",
   "metadata": {
    "id": "realistic-shaft",
    "outputId": "737f34d3-cc85-4d51-d119-a9cf046ced9b"
   },
   "outputs": [
    {
     "data": {
      "image/png": "[encoded data removed]",
      "text/plain": [
       "<Figure size 432x288 with 1 Axes>"
      ]
     },
     "metadata": {
      "needs_background": "light"
     },
     "output_type": "display_data"
    }
   ],
   "source": [
    "data = np.random.rand(100,2) # 100 random points\n",
    "data = pd.DataFrame(data)\n",
    "k = 4 # we want 4 clusters\n",
    "points, centroids = k_means(k, data)\n",
    "\n",
    "\n",
    "\n",
    "for i in range(k):\n",
    "    # points == i is similar to above\n",
    "    plt.scatter(data[points == i][0],data[points==i][1], label = i)\n",
    "\n",
    "plt.legend()\n",
    "plt.show()"
   ]
  }
 ],
 "metadata": {
  "colab": {
   "include_colab_link": true,
   "name": "Week3_clustering.ipynb",
   "provenance": []
  },
  "kernelspec": {
   "display_name": "Python 3 (ipykernel)",
   "language": "python",
   "name": "python3"
  },
  "language_info": {
   "codemirror_mode": {
    "name": "ipython",
    "version": 3
   },
   "file_extension": ".py",
   "mimetype": "text/x-python",
   "name": "python",
   "nbconvert_exporter": "python",
   "pygments_lexer": "ipython3",
   "version": "3.9.7"
  }
 },
 "nbformat": 4,
 "nbformat_minor": 5
}
